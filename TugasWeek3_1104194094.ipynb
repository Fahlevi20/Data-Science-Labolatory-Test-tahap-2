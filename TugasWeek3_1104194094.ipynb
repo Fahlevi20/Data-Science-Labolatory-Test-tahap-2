{
  "nbformat": 4,
  "nbformat_minor": 0,
  "metadata": {
    "colab": {
      "name": "TugasWeek3_1104194094.ipynb",
      "provenance": [],
      "collapsed_sections": [],
      "authorship_tag": "ABX9TyN+6c5VxncGgrDAbyd4xPLe",
      "include_colab_link": true
    },
    "kernelspec": {
      "name": "python3",
      "display_name": "Python 3"
    },
    "language_info": {
      "name": "python"
    }
  },
  "cells": [
    {
      "cell_type": "markdown",
      "metadata": {
        "id": "view-in-github",
        "colab_type": "text"
      },
      "source": [
        "<a href=\"https://colab.research.google.com/github/Fahlevi20/Data-Science-Labolatory-Test-tahap-2/blob/main/TugasWeek3_1104194094.ipynb\" target=\"_parent\"><img src=\"https://colab.research.google.com/assets/colab-badge.svg\" alt=\"Open In Colab\"/></a>"
      ]
    },
    {
      "cell_type": "markdown",
      "metadata": {
        "id": "CxZ1JA7AIs32"
      },
      "source": [
        "# **Import Library**"
      ]
    },
    {
      "cell_type": "code",
      "metadata": {
        "id": "ppsU_gTA8q19"
      },
      "source": [
        "import pandas as pd\n",
        "import matplotlib.pyplot as plt\n",
        "import seaborn as sns\n",
        "import numpy as np"
      ],
      "execution_count": 3,
      "outputs": []
    },
    {
      "cell_type": "markdown",
      "metadata": {
        "id": "p1e4NEaZI1ll"
      },
      "source": [
        "# masukkan Dataset"
      ]
    },
    {
      "cell_type": "code",
      "metadata": {
        "colab": {
          "base_uri": "https://localhost:8080/"
        },
        "id": "5TbyRTq781A1",
        "outputId": "96bc9bed-c87d-46a6-9f21-8ac7d7f51598"
      },
      "source": [
        "!gdown -- id \"1YT9tJ5wygYidlz0ie6RqzMR7AFCGJ5Qe\" # train\n"
      ],
      "execution_count": 4,
      "outputs": [
        {
          "output_type": "stream",
          "text": [
            "usage: gdown [-h] [-V] [-O OUTPUT] [-q] [--id] url_or_id\n",
            "gdown: error: unrecognized arguments: 1YT9tJ5wygYidlz0ie6RqzMR7AFCGJ5Qe\n"
          ],
          "name": "stdout"
        }
      ]
    },
    {
      "cell_type": "code",
      "metadata": {
        "id": "UbyqrxTq9PX3"
      },
      "source": [
        "df = pd.read_csv('dataset.csv')"
      ],
      "execution_count": 5,
      "outputs": []
    },
    {
      "cell_type": "markdown",
      "metadata": {
        "id": "3hIH2z0tI9zo"
      },
      "source": [
        "# Exploratory Data Analysis (EDA)"
      ]
    },
    {
      "cell_type": "code",
      "metadata": {
        "colab": {
          "base_uri": "https://localhost:8080/",
          "height": 417
        },
        "id": "8wPzp3mF97Id",
        "outputId": "66d97ec2-ffea-4e1b-9ac2-9c9b75fae90c"
      },
      "source": [
        "df"
      ],
      "execution_count": 6,
      "outputs": [
        {
          "output_type": "execute_result",
          "data": {
            "text/html": [
              "<div>\n",
              "<style scoped>\n",
              "    .dataframe tbody tr th:only-of-type {\n",
              "        vertical-align: middle;\n",
              "    }\n",
              "\n",
              "    .dataframe tbody tr th {\n",
              "        vertical-align: top;\n",
              "    }\n",
              "\n",
              "    .dataframe thead th {\n",
              "        text-align: right;\n",
              "    }\n",
              "</style>\n",
              "<table border=\"1\" class=\"dataframe\">\n",
              "  <thead>\n",
              "    <tr style=\"text-align: right;\">\n",
              "      <th></th>\n",
              "      <th>LotFrontage</th>\n",
              "      <th>LotArea</th>\n",
              "      <th>Street</th>\n",
              "      <th>Alley</th>\n",
              "      <th>OverallQual</th>\n",
              "      <th>OverallCond</th>\n",
              "      <th>YearBuilt</th>\n",
              "      <th>YearRemodAdd</th>\n",
              "      <th>ExterQual</th>\n",
              "      <th>GrLivArea</th>\n",
              "      <th>ExterCond</th>\n",
              "      <th>SalePrice</th>\n",
              "    </tr>\n",
              "  </thead>\n",
              "  <tbody>\n",
              "    <tr>\n",
              "      <th>0</th>\n",
              "      <td>-0.208034</td>\n",
              "      <td>-0.189583</td>\n",
              "      <td>-0.064658</td>\n",
              "      <td>-0.261682</td>\n",
              "      <td>0.618629</td>\n",
              "      <td>-0.513699</td>\n",
              "      <td>1.021506</td>\n",
              "      <td>0.840573</td>\n",
              "      <td>1.021420</td>\n",
              "      <td>0.375429</td>\n",
              "      <td>-0.217239</td>\n",
              "      <td>12.247694</td>\n",
              "    </tr>\n",
              "    <tr>\n",
              "      <th>1</th>\n",
              "      <td>0.409895</td>\n",
              "      <td>-0.044400</td>\n",
              "      <td>-0.064658</td>\n",
              "      <td>-0.261682</td>\n",
              "      <td>-0.086279</td>\n",
              "      <td>2.228313</td>\n",
              "      <td>0.170767</td>\n",
              "      <td>-0.433726</td>\n",
              "      <td>-0.691884</td>\n",
              "      <td>-0.470321</td>\n",
              "      <td>-0.217239</td>\n",
              "      <td>12.109011</td>\n",
              "    </tr>\n",
              "    <tr>\n",
              "      <th>2</th>\n",
              "      <td>-0.084449</td>\n",
              "      <td>0.163905</td>\n",
              "      <td>-0.064658</td>\n",
              "      <td>-0.261682</td>\n",
              "      <td>0.618629</td>\n",
              "      <td>-0.513699</td>\n",
              "      <td>0.958488</td>\n",
              "      <td>0.793377</td>\n",
              "      <td>1.021420</td>\n",
              "      <td>0.518905</td>\n",
              "      <td>-0.217239</td>\n",
              "      <td>12.317167</td>\n",
              "    </tr>\n",
              "    <tr>\n",
              "      <th>3</th>\n",
              "      <td>-0.414011</td>\n",
              "      <td>-0.050713</td>\n",
              "      <td>-0.064658</td>\n",
              "      <td>-0.261682</td>\n",
              "      <td>0.618629</td>\n",
              "      <td>-0.513699</td>\n",
              "      <td>-1.751273</td>\n",
              "      <td>-0.716904</td>\n",
              "      <td>-0.691884</td>\n",
              "      <td>0.388644</td>\n",
              "      <td>-0.217239</td>\n",
              "      <td>11.849398</td>\n",
              "    </tr>\n",
              "    <tr>\n",
              "      <th>4</th>\n",
              "      <td>0.574676</td>\n",
              "      <td>0.543905</td>\n",
              "      <td>-0.064658</td>\n",
              "      <td>-0.261682</td>\n",
              "      <td>1.323537</td>\n",
              "      <td>-0.513699</td>\n",
              "      <td>0.926979</td>\n",
              "      <td>0.698984</td>\n",
              "      <td>1.021420</td>\n",
              "      <td>1.296692</td>\n",
              "      <td>-0.217239</td>\n",
              "      <td>12.429216</td>\n",
              "    </tr>\n",
              "    <tr>\n",
              "      <th>...</th>\n",
              "      <td>...</td>\n",
              "      <td>...</td>\n",
              "      <td>...</td>\n",
              "      <td>...</td>\n",
              "      <td>...</td>\n",
              "      <td>...</td>\n",
              "      <td>...</td>\n",
              "      <td>...</td>\n",
              "      <td>...</td>\n",
              "      <td>...</td>\n",
              "      <td>...</td>\n",
              "      <td>...</td>\n",
              "    </tr>\n",
              "    <tr>\n",
              "      <th>1196</th>\n",
              "      <td>-0.331620</td>\n",
              "      <td>-0.256872</td>\n",
              "      <td>-0.064658</td>\n",
              "      <td>-0.261682</td>\n",
              "      <td>-0.086279</td>\n",
              "      <td>-0.513699</td>\n",
              "      <td>0.895471</td>\n",
              "      <td>0.698984</td>\n",
              "      <td>-0.691884</td>\n",
              "      <td>0.256496</td>\n",
              "      <td>-0.217239</td>\n",
              "      <td>12.072541</td>\n",
              "    </tr>\n",
              "    <tr>\n",
              "      <th>1197</th>\n",
              "      <td>0.615871</td>\n",
              "      <td>0.406928</td>\n",
              "      <td>-0.064658</td>\n",
              "      <td>-0.261682</td>\n",
              "      <td>-0.086279</td>\n",
              "      <td>0.400305</td>\n",
              "      <td>0.233785</td>\n",
              "      <td>0.132629</td>\n",
              "      <td>-0.691884</td>\n",
              "      <td>1.060713</td>\n",
              "      <td>-0.217239</td>\n",
              "      <td>12.254863</td>\n",
              "    </tr>\n",
              "    <tr>\n",
              "      <th>1198</th>\n",
              "      <td>-0.166839</td>\n",
              "      <td>-0.114846</td>\n",
              "      <td>-0.064658</td>\n",
              "      <td>-0.261682</td>\n",
              "      <td>0.618629</td>\n",
              "      <td>3.142317</td>\n",
              "      <td>-0.932043</td>\n",
              "      <td>0.982162</td>\n",
              "      <td>2.734723</td>\n",
              "      <td>1.564765</td>\n",
              "      <td>2.649836</td>\n",
              "      <td>12.493130</td>\n",
              "    </tr>\n",
              "    <tr>\n",
              "      <th>1199</th>\n",
              "      <td>-0.084449</td>\n",
              "      <td>-0.029630</td>\n",
              "      <td>-0.064658</td>\n",
              "      <td>-0.261682</td>\n",
              "      <td>-0.791187</td>\n",
              "      <td>0.400305</td>\n",
              "      <td>-0.648463</td>\n",
              "      <td>0.510199</td>\n",
              "      <td>-0.691884</td>\n",
              "      <td>-0.817682</td>\n",
              "      <td>-0.217239</td>\n",
              "      <td>11.864462</td>\n",
              "    </tr>\n",
              "    <tr>\n",
              "      <th>1200</th>\n",
              "      <td>0.203918</td>\n",
              "      <td>-0.001856</td>\n",
              "      <td>-0.064658</td>\n",
              "      <td>-0.261682</td>\n",
              "      <td>-0.791187</td>\n",
              "      <td>0.400305</td>\n",
              "      <td>-0.175830</td>\n",
              "      <td>-0.952885</td>\n",
              "      <td>1.021420</td>\n",
              "      <td>-0.481648</td>\n",
              "      <td>-0.217239</td>\n",
              "      <td>11.901583</td>\n",
              "    </tr>\n",
              "  </tbody>\n",
              "</table>\n",
              "<p>1201 rows × 12 columns</p>\n",
              "</div>"
            ],
            "text/plain": [
              "      LotFrontage   LotArea    Street  ...  GrLivArea  ExterCond  SalePrice\n",
              "0       -0.208034 -0.189583 -0.064658  ...   0.375429  -0.217239  12.247694\n",
              "1        0.409895 -0.044400 -0.064658  ...  -0.470321  -0.217239  12.109011\n",
              "2       -0.084449  0.163905 -0.064658  ...   0.518905  -0.217239  12.317167\n",
              "3       -0.414011 -0.050713 -0.064658  ...   0.388644  -0.217239  11.849398\n",
              "4        0.574676  0.543905 -0.064658  ...   1.296692  -0.217239  12.429216\n",
              "...           ...       ...       ...  ...        ...        ...        ...\n",
              "1196    -0.331620 -0.256872 -0.064658  ...   0.256496  -0.217239  12.072541\n",
              "1197     0.615871  0.406928 -0.064658  ...   1.060713  -0.217239  12.254863\n",
              "1198    -0.166839 -0.114846 -0.064658  ...   1.564765   2.649836  12.493130\n",
              "1199    -0.084449 -0.029630 -0.064658  ...  -0.817682  -0.217239  11.864462\n",
              "1200     0.203918 -0.001856 -0.064658  ...  -0.481648  -0.217239  11.901583\n",
              "\n",
              "[1201 rows x 12 columns]"
            ]
          },
          "metadata": {
            "tags": []
          },
          "execution_count": 6
        }
      ]
    },
    {
      "cell_type": "code",
      "metadata": {
        "colab": {
          "base_uri": "https://localhost:8080/",
          "height": 399
        },
        "id": "Zt8SaMVg97yr",
        "outputId": "85e7e197-0319-49c7-8626-b24a52bc2f49"
      },
      "source": [
        "df.describe()"
      ],
      "execution_count": 7,
      "outputs": [
        {
          "output_type": "execute_result",
          "data": {
            "text/html": [
              "<div>\n",
              "<style scoped>\n",
              "    .dataframe tbody tr th:only-of-type {\n",
              "        vertical-align: middle;\n",
              "    }\n",
              "\n",
              "    .dataframe tbody tr th {\n",
              "        vertical-align: top;\n",
              "    }\n",
              "\n",
              "    .dataframe thead th {\n",
              "        text-align: right;\n",
              "    }\n",
              "</style>\n",
              "<table border=\"1\" class=\"dataframe\">\n",
              "  <thead>\n",
              "    <tr style=\"text-align: right;\">\n",
              "      <th></th>\n",
              "      <th>LotFrontage</th>\n",
              "      <th>LotArea</th>\n",
              "      <th>Street</th>\n",
              "      <th>Alley</th>\n",
              "      <th>OverallQual</th>\n",
              "      <th>OverallCond</th>\n",
              "      <th>YearBuilt</th>\n",
              "      <th>YearRemodAdd</th>\n",
              "      <th>ExterQual</th>\n",
              "      <th>GrLivArea</th>\n",
              "      <th>ExterCond</th>\n",
              "      <th>SalePrice</th>\n",
              "    </tr>\n",
              "  </thead>\n",
              "  <tbody>\n",
              "    <tr>\n",
              "      <th>count</th>\n",
              "      <td>1.201000e+03</td>\n",
              "      <td>1.201000e+03</td>\n",
              "      <td>1.201000e+03</td>\n",
              "      <td>1.201000e+03</td>\n",
              "      <td>1.201000e+03</td>\n",
              "      <td>1.201000e+03</td>\n",
              "      <td>1.201000e+03</td>\n",
              "      <td>1.201000e+03</td>\n",
              "      <td>1.201000e+03</td>\n",
              "      <td>1.201000e+03</td>\n",
              "      <td>1.201000e+03</td>\n",
              "      <td>1201.000000</td>\n",
              "    </tr>\n",
              "    <tr>\n",
              "      <th>mean</th>\n",
              "      <td>-2.667632e-16</td>\n",
              "      <td>-2.018566e-17</td>\n",
              "      <td>-1.493463e-15</td>\n",
              "      <td>1.442088e-16</td>\n",
              "      <td>-2.338771e-16</td>\n",
              "      <td>-8.892877e-17</td>\n",
              "      <td>-2.003509e-15</td>\n",
              "      <td>1.415742e-15</td>\n",
              "      <td>9.336597e-17</td>\n",
              "      <td>5.685155e-17</td>\n",
              "      <td>-6.894753e-16</td>\n",
              "      <td>12.015821</td>\n",
              "    </tr>\n",
              "    <tr>\n",
              "      <th>std</th>\n",
              "      <td>1.000417e+00</td>\n",
              "      <td>1.000417e+00</td>\n",
              "      <td>1.000417e+00</td>\n",
              "      <td>1.000417e+00</td>\n",
              "      <td>1.000417e+00</td>\n",
              "      <td>1.000417e+00</td>\n",
              "      <td>1.000417e+00</td>\n",
              "      <td>1.000417e+00</td>\n",
              "      <td>1.000417e+00</td>\n",
              "      <td>1.000417e+00</td>\n",
              "      <td>1.000417e+00</td>\n",
              "      <td>0.416045</td>\n",
              "    </tr>\n",
              "    <tr>\n",
              "      <th>min</th>\n",
              "      <td>-2.020626e+00</td>\n",
              "      <td>-1.092241e+00</td>\n",
              "      <td>-6.465758e-02</td>\n",
              "      <td>-2.616816e-01</td>\n",
              "      <td>-3.610820e+00</td>\n",
              "      <td>-3.255712e+00</td>\n",
              "      <td>-3.106154e+00</td>\n",
              "      <td>-1.660829e+00</td>\n",
              "      <td>-2.405187e+00</td>\n",
              "      <td>-2.222231e+00</td>\n",
              "      <td>-5.951389e+00</td>\n",
              "      <td>10.460242</td>\n",
              "    </tr>\n",
              "    <tr>\n",
              "      <th>25%</th>\n",
              "      <td>-4.552059e-01</td>\n",
              "      <td>-3.196164e-01</td>\n",
              "      <td>-6.465758e-02</td>\n",
              "      <td>-2.616816e-01</td>\n",
              "      <td>-7.911875e-01</td>\n",
              "      <td>-5.136992e-01</td>\n",
              "      <td>-6.484632e-01</td>\n",
              "      <td>-9.056887e-01</td>\n",
              "      <td>-6.918835e-01</td>\n",
              "      <td>-7.119635e-01</td>\n",
              "      <td>-2.172388e-01</td>\n",
              "      <td>11.755872</td>\n",
              "    </tr>\n",
              "    <tr>\n",
              "      <th>50%</th>\n",
              "      <td>-4.325330e-02</td>\n",
              "      <td>-8.707156e-02</td>\n",
              "      <td>-6.465758e-02</td>\n",
              "      <td>-2.616816e-01</td>\n",
              "      <td>-8.627934e-02</td>\n",
              "      <td>-5.136992e-01</td>\n",
              "      <td>4.473155e-02</td>\n",
              "      <td>4.630027e-01</td>\n",
              "      <td>-6.918835e-01</td>\n",
              "      <td>-1.040808e-01</td>\n",
              "      <td>-2.172388e-01</td>\n",
              "      <td>11.979799</td>\n",
              "    </tr>\n",
              "    <tr>\n",
              "      <th>75%</th>\n",
              "      <td>4.098945e-01</td>\n",
              "      <td>1.637789e-01</td>\n",
              "      <td>-6.465758e-02</td>\n",
              "      <td>-2.616816e-01</td>\n",
              "      <td>6.186288e-01</td>\n",
              "      <td>4.003049e-01</td>\n",
              "      <td>1.021506e+00</td>\n",
              "      <td>8.877690e-01</td>\n",
              "      <td>1.021420e+00</td>\n",
              "      <td>4.849235e-01</td>\n",
              "      <td>-2.172388e-01</td>\n",
              "      <td>12.271392</td>\n",
              "    </tr>\n",
              "    <tr>\n",
              "      <th>max</th>\n",
              "      <td>1.000839e+01</td>\n",
              "      <td>2.591742e+01</td>\n",
              "      <td>1.546609e+01</td>\n",
              "      <td>4.766791e+00</td>\n",
              "      <td>2.733353e+00</td>\n",
              "      <td>3.142317e+00</td>\n",
              "      <td>1.242068e+00</td>\n",
              "      <td>1.170947e+00</td>\n",
              "      <td>2.734723e+00</td>\n",
              "      <td>7.798394e+00</td>\n",
              "      <td>5.516912e+00</td>\n",
              "      <td>13.534473</td>\n",
              "    </tr>\n",
              "  </tbody>\n",
              "</table>\n",
              "</div>"
            ],
            "text/plain": [
              "        LotFrontage       LotArea  ...     ExterCond    SalePrice\n",
              "count  1.201000e+03  1.201000e+03  ...  1.201000e+03  1201.000000\n",
              "mean  -2.667632e-16 -2.018566e-17  ... -6.894753e-16    12.015821\n",
              "std    1.000417e+00  1.000417e+00  ...  1.000417e+00     0.416045\n",
              "min   -2.020626e+00 -1.092241e+00  ... -5.951389e+00    10.460242\n",
              "25%   -4.552059e-01 -3.196164e-01  ... -2.172388e-01    11.755872\n",
              "50%   -4.325330e-02 -8.707156e-02  ... -2.172388e-01    11.979799\n",
              "75%    4.098945e-01  1.637789e-01  ... -2.172388e-01    12.271392\n",
              "max    1.000839e+01  2.591742e+01  ...  5.516912e+00    13.534473\n",
              "\n",
              "[8 rows x 12 columns]"
            ]
          },
          "metadata": {
            "tags": []
          },
          "execution_count": 7
        }
      ]
    },
    {
      "cell_type": "markdown",
      "metadata": {
        "id": "iLOhB8mvJTi5"
      },
      "source": [
        "# Data Cleaning/Cleansing"
      ]
    },
    {
      "cell_type": "code",
      "metadata": {
        "colab": {
          "base_uri": "https://localhost:8080/"
        },
        "id": "uL3ZhxSV-It9",
        "outputId": "afc0a16f-241b-4763-fcc1-e210aca01d20"
      },
      "source": [
        "for i in df.columns:\n",
        "  df.loc[df[i]=='none',[i]]=float('nan')\n",
        "df.isna().sum()"
      ],
      "execution_count": 8,
      "outputs": [
        {
          "output_type": "execute_result",
          "data": {
            "text/plain": [
              "LotFrontage     0\n",
              "LotArea         0\n",
              "Street          0\n",
              "Alley           0\n",
              "OverallQual     0\n",
              "OverallCond     0\n",
              "YearBuilt       0\n",
              "YearRemodAdd    0\n",
              "ExterQual       0\n",
              "GrLivArea       0\n",
              "ExterCond       0\n",
              "SalePrice       0\n",
              "dtype: int64"
            ]
          },
          "metadata": {
            "tags": []
          },
          "execution_count": 8
        }
      ]
    },
    {
      "cell_type": "code",
      "metadata": {
        "colab": {
          "base_uri": "https://localhost:8080/"
        },
        "id": "L52XoY5B-TnU",
        "outputId": "09858560-41b5-4cda-b945-40419e00ba49"
      },
      "source": [
        "df.info()"
      ],
      "execution_count": 9,
      "outputs": [
        {
          "output_type": "stream",
          "text": [
            "<class 'pandas.core.frame.DataFrame'>\n",
            "RangeIndex: 1201 entries, 0 to 1200\n",
            "Data columns (total 12 columns):\n",
            " #   Column        Non-Null Count  Dtype  \n",
            "---  ------        --------------  -----  \n",
            " 0   LotFrontage   1201 non-null   float64\n",
            " 1   LotArea       1201 non-null   float64\n",
            " 2   Street        1201 non-null   float64\n",
            " 3   Alley         1201 non-null   float64\n",
            " 4   OverallQual   1201 non-null   float64\n",
            " 5   OverallCond   1201 non-null   float64\n",
            " 6   YearBuilt     1201 non-null   float64\n",
            " 7   YearRemodAdd  1201 non-null   float64\n",
            " 8   ExterQual     1201 non-null   float64\n",
            " 9   GrLivArea     1201 non-null   float64\n",
            " 10  ExterCond     1201 non-null   float64\n",
            " 11  SalePrice     1201 non-null   float64\n",
            "dtypes: float64(12)\n",
            "memory usage: 112.7 KB\n"
          ],
          "name": "stdout"
        }
      ]
    },
    {
      "cell_type": "markdown",
      "metadata": {
        "id": "h3Umja49JeEJ"
      },
      "source": [
        "# **Data Pre-processing**"
      ]
    },
    {
      "cell_type": "markdown",
      "metadata": {
        "id": "lD7w63owJqkG"
      },
      "source": [
        "Disini saya mencoba dengan 2 metode yaitu menggunakan Standard Scaler dan tidak untuk melihat perbandingan kedua data tersebut"
      ]
    },
    {
      "cell_type": "code",
      "metadata": {
        "id": "cePXrPZP-o7r"
      },
      "source": [
        "from sklearn.model_selection import train_test_split\n",
        "from sklearn.linear_model import LinearRegression\n",
        "from sklearn.metrics import r2_score,mean_squared_error"
      ],
      "execution_count": 10,
      "outputs": []
    },
    {
      "cell_type": "code",
      "metadata": {
        "id": "Hqq2NmzSBCF7"
      },
      "source": [
        "from sklearn.preprocessing import StandardScaler"
      ],
      "execution_count": 11,
      "outputs": []
    },
    {
      "cell_type": "code",
      "metadata": {
        "id": "j_BRSXF4BJbf"
      },
      "source": [
        "scaler=StandardScaler()\n",
        "#X=scaler.fit_transform(df.iloc[:,:-1])\n",
        "#Y=df['SalePrice']\n",
        "X=df.drop('SalePrice',axis=1)\n",
        "Y=df['SalePrice']"
      ],
      "execution_count": 12,
      "outputs": []
    },
    {
      "cell_type": "markdown",
      "metadata": {
        "id": "w9YNp7O0J61M"
      },
      "source": [
        "# **Training Linear Regression Model**"
      ]
    },
    {
      "cell_type": "code",
      "metadata": {
        "id": "S5k4YE3T_M80"
      },
      "source": [
        "X_train,X_test,Y_train,Y_test=train_test_split(X,Y,test_size=0.2,random_state=0)"
      ],
      "execution_count": 13,
      "outputs": []
    },
    {
      "cell_type": "markdown",
      "metadata": {
        "id": "PTXG5kDvKyhP"
      },
      "source": [
        "# **Linear Regression Model**"
      ]
    },
    {
      "cell_type": "code",
      "metadata": {
        "colab": {
          "base_uri": "https://localhost:8080/"
        },
        "id": "6h1OA8NI_dPM",
        "outputId": "e00a0910-666b-4c66-ed1e-cdc7362f3820"
      },
      "source": [
        "model=LinearRegression()\n",
        "model.fit(X_train,Y_train)"
      ],
      "execution_count": 14,
      "outputs": [
        {
          "output_type": "execute_result",
          "data": {
            "text/plain": [
              "LinearRegression(copy_X=True, fit_intercept=True, n_jobs=None, normalize=False)"
            ]
          },
          "metadata": {
            "tags": []
          },
          "execution_count": 14
        }
      ]
    },
    {
      "cell_type": "code",
      "metadata": {
        "colab": {
          "base_uri": "https://localhost:8080/"
        },
        "id": "n6iiG2Is_ntb",
        "outputId": "b742ec3f-7bc0-4c1b-fb41-7e60cb75cc98"
      },
      "source": [
        "y_pred=model.predict(X_test)\n",
        "y_pred"
      ],
      "execution_count": 15,
      "outputs": [
        {
          "output_type": "execute_result",
          "data": {
            "text/plain": [
              "array([11.45015464, 12.26844717, 11.69662759, 12.49213501, 12.2686862 ,\n",
              "       11.93694128, 11.64820255, 11.91114944, 11.89401443, 12.49426113,\n",
              "       11.67101231, 11.23397603, 11.66774481, 11.58879882, 11.83534115,\n",
              "       10.76712308, 12.12616784, 11.2261379 , 11.63771439, 11.85222722,\n",
              "       11.9403931 , 12.280821  , 11.68094577, 11.81256199, 12.23901918,\n",
              "       12.42771481, 11.44080021, 11.83226987, 12.05549482, 11.7729551 ,\n",
              "       11.92094182, 12.43378865, 11.23513452, 11.48707297, 11.83556033,\n",
              "       12.37967099, 12.19221974, 12.06957401, 11.74188301, 12.08913696,\n",
              "       12.22298823, 12.48588775, 11.78111661, 11.79186988, 12.20921051,\n",
              "       11.63783635, 11.7328148 , 11.98135223, 12.78148771, 12.10023121,\n",
              "       12.36526689, 11.83789212, 12.26648127, 12.27239462, 11.4264051 ,\n",
              "       11.97920663, 11.60224651, 11.71557668, 12.2492637 , 11.67582541,\n",
              "       11.89114482, 11.5053881 , 12.11963133, 11.55932692, 12.28584976,\n",
              "       11.84215358, 11.86644767, 12.12333635, 12.04324822, 12.47523656,\n",
              "       11.93165468, 11.99830992, 11.63420705, 11.9055796 , 11.65834967,\n",
              "       11.85127481, 12.16185918, 12.11860282, 12.10918407, 11.9539534 ,\n",
              "       12.1201735 , 11.05521546, 12.46281329, 12.30110368, 12.74278201,\n",
              "       11.67087598, 11.21182372, 12.03902287, 12.36608013, 11.78948256,\n",
              "       12.66146935, 11.44427509, 12.68566622, 12.14888172, 11.90140267,\n",
              "       12.03877185, 11.82515243, 12.26264176, 12.24811702, 12.23815507,\n",
              "       11.84074415, 12.1352618 , 11.8196374 , 12.21441847, 11.866243  ,\n",
              "       12.06132429, 12.60633461, 12.4034958 , 11.77389544, 12.06238915,\n",
              "       11.76901777, 11.83279575, 11.46391502, 12.02819993, 12.5529853 ,\n",
              "       12.6667152 , 12.16658878, 11.67004348, 11.78218596, 12.07100266,\n",
              "       11.86069772, 11.75819975, 11.60532539, 13.03525942, 11.58940286,\n",
              "       10.96589062, 11.47519292, 12.2282583 , 11.54711178, 11.93750852,\n",
              "       11.44248826, 12.56282381, 11.66319099, 12.11568629, 11.52734839,\n",
              "       12.50263555, 12.14141716, 11.62862254, 12.28444247, 12.3249297 ,\n",
              "       11.62356256, 12.22843131, 11.82414551, 11.79476816, 12.11088543,\n",
              "       11.72367419, 12.54513849, 11.84877359, 11.81897169, 11.43004315,\n",
              "       11.38749089, 11.79244923, 11.8167888 , 12.20742696, 12.29747148,\n",
              "       12.34632245, 11.88036147, 11.67235785, 12.76604231, 11.84205751,\n",
              "       12.1751409 , 12.30501642, 11.72265963, 11.94029217, 11.77342616,\n",
              "       11.52553005, 11.8985002 , 11.93575763, 11.58095088, 11.59861505,\n",
              "       11.81428923, 11.79224437, 12.1019248 , 12.08966088, 12.89597374,\n",
              "       11.5869365 , 12.59584889, 11.8559651 , 11.84156794, 12.0519612 ,\n",
              "       11.72673548, 12.36682999, 12.23535172, 11.54576842, 12.25412084,\n",
              "       12.03695272, 12.42387342, 12.8970023 , 12.34421644, 12.15956071,\n",
              "       11.54323599, 12.41090275, 12.2003302 , 12.64084023, 11.60563354,\n",
              "       12.24504395, 12.29243365, 11.80664955, 12.48745713, 11.95984909,\n",
              "       12.37266911, 12.43809527, 11.99381449, 12.29998378, 11.59053113,\n",
              "       11.63616761, 11.93913312, 11.83032385, 12.5266889 , 11.55196954,\n",
              "       12.2287653 , 12.06183583, 11.98363524, 11.70117527, 11.65855969,\n",
              "       11.66054817, 11.69628184, 12.04047107, 11.65338806, 12.29477587,\n",
              "       12.09861176, 11.34985973, 11.62720874, 11.78113758, 11.65145168,\n",
              "       12.26009503, 12.5545369 , 11.81540159, 11.43652932, 11.94405715,\n",
              "       11.97773414, 11.75797771, 11.81370009, 11.90168252, 12.2822762 ,\n",
              "       12.39080757, 12.62088981, 11.80365106, 11.46448489, 12.12018047,\n",
              "       12.10875985])"
            ]
          },
          "metadata": {
            "tags": []
          },
          "execution_count": 15
        }
      ]
    },
    {
      "cell_type": "markdown",
      "metadata": {
        "id": "zNa2YudyKlM2"
      },
      "source": [
        "# **Model Evaluation**"
      ]
    },
    {
      "cell_type": "code",
      "metadata": {
        "colab": {
          "base_uri": "https://localhost:8080/"
        },
        "id": "29lqxSuEDAZz",
        "outputId": "9b16deaf-b208-49bd-a019-e93909f637d8"
      },
      "source": [
        "from sklearn.metrics import mean_absolute_error\n",
        "print('nilai mae:',mean_absolute_error(y_pred,Y_test))\n",
        "print('nilai mse:',mean_squared_error(y_pred,Y_test))\n",
        "print('nilai rmse:',np.sqrt(mean_squared_error(y_pred,Y_test)))\n",
        "\n",
        "print('nilai r^2:',r2_score(y_pred,Y_test))\n",
        "print('\\nnilai Coefficient:\\n',model.coef_)\n",
        "print('\\nnilai intercept:',model.intercept_)\n"
      ],
      "execution_count": 16,
      "outputs": [
        {
          "output_type": "stream",
          "text": [
            "nilai mae: 0.11165986940764161\n",
            "nilai mse: 0.020925585830023245\n",
            "nilai rmse: 0.1446567863255065\n",
            "nilai r^2: 0.8473453008150221\n",
            "\n",
            "nilai Coefficient:\n",
            " [ 0.01671328  0.03084874 -0.00402658 -0.00507253  0.15578432  0.05454615\n",
            "  0.11924461  0.01939592  0.03164925  0.13808331  0.00532596]\n",
            "\n",
            "nilai intercept: 12.01283505558578\n"
          ],
          "name": "stdout"
        }
      ]
    },
    {
      "cell_type": "markdown",
      "metadata": {
        "id": "_JPUfgL0NMN-"
      },
      "source": [
        "jika dilihat dari hasil MSE atau Mean Squared Error yang kecil yaitu sebesar 0.020925585830023245 lalu disusul MAE dan RMSE nya dan juga hasil R^2 nya yaitu 0.8473453008150221 disini kita dapat mengambil kesimpulan bahwa hasil prediksi menggunakan model Linear Regression tanpa standard scaler hasilnya adalah lumayan baik karena R^2 nya diatas 0.80 atau 80% dan juga errornya kecil."
      ]
    },
    {
      "cell_type": "markdown",
      "metadata": {
        "id": "bfjuAnWmK7bA"
      },
      "source": [
        "# **Prediction Model Linear Regression**"
      ]
    },
    {
      "cell_type": "code",
      "metadata": {
        "colab": {
          "base_uri": "https://localhost:8080/",
          "height": 432
        },
        "id": "DvujZK88DVGK",
        "outputId": "1e5c5cba-92b0-4401-cc7a-6ae8d984219e"
      },
      "source": [
        "from yellowbrick.regressor import PredictionError,ResidualsPlot\n",
        "\n",
        "visualizer=PredictionError(model)\n",
        "visualizer.fit(X_train,Y_train)\n",
        "visualizer.score(X_test,Y_test)\n",
        "visualizer.poof()"
      ],
      "execution_count": 17,
      "outputs": [
        {
          "output_type": "stream",
          "text": [
            "/usr/local/lib/python3.7/dist-packages/sklearn/utils/deprecation.py:144: FutureWarning: The sklearn.metrics.classification module is  deprecated in version 0.22 and will be removed in version 0.24. The corresponding classes / functions should instead be imported from sklearn.metrics. Anything that cannot be imported from sklearn.metrics is now part of the private API.\n",
            "  warnings.warn(message, FutureWarning)\n"
          ],
          "name": "stderr"
        },
        {
          "output_type": "display_data",
          "data": {
            "image/png": "[encoded data removed]",
            "text/plain": [
              "<Figure size 576x396 with 1 Axes>"
            ]
          },
          "metadata": {
            "tags": []
          }
        }
      ]
    },
    {
      "cell_type": "markdown",
      "metadata": {
        "id": "aE0GwbsNN8bT"
      },
      "source": [
        "dan disini juga menggunakan grafik linear regression mendapatkan hasil R^2 nya yaitu 0.866, disini kita bisa tau bahwa hasil prediksi kita juga baik. "
      ]
    },
    {
      "cell_type": "markdown",
      "metadata": {
        "id": "tx9-KqbiLC6j"
      },
      "source": [
        "# **Data Pre-Processing using Standard Scaler**"
      ]
    },
    {
      "cell_type": "code",
      "metadata": {
        "id": "VACvTkLeGT7K"
      },
      "source": [
        "scaler=StandardScaler()\n",
        "#X=scaler.fit_transform(df.iloc[:,:-1])\n",
        "#Y=df['SalePrice']"
      ],
      "execution_count": 18,
      "outputs": []
    },
    {
      "cell_type": "markdown",
      "metadata": {
        "id": "xdVm1PSJLLu0"
      },
      "source": [
        "# **Training Linear Regression Model**"
      ]
    },
    {
      "cell_type": "code",
      "metadata": {
        "id": "bX-kI9xwICMg"
      },
      "source": [
        "X_train,X_test,Y_train,Y_test=train_test_split(X,Y,test_size=0.2,random_state=0)"
      ],
      "execution_count": 19,
      "outputs": []
    },
    {
      "cell_type": "code",
      "metadata": {
        "colab": {
          "base_uri": "https://localhost:8080/"
        },
        "id": "KZhTtf0XICy8",
        "outputId": "e68113c5-d95b-403e-8258-9c0d9fb668e0"
      },
      "source": [
        "model2=LinearRegression()\n",
        "model2.fit(X_train,Y_train)"
      ],
      "execution_count": 20,
      "outputs": [
        {
          "output_type": "execute_result",
          "data": {
            "text/plain": [
              "LinearRegression(copy_X=True, fit_intercept=True, n_jobs=None, normalize=False)"
            ]
          },
          "metadata": {
            "tags": []
          },
          "execution_count": 20
        }
      ]
    },
    {
      "cell_type": "code",
      "metadata": {
        "colab": {
          "base_uri": "https://localhost:8080/"
        },
        "id": "M55Pd5g5IC0z",
        "outputId": "59de2147-074d-4b2c-d96d-5144db3820aa"
      },
      "source": [
        "y_pred=model2.predict(X_test)\n",
        "y_pred"
      ],
      "execution_count": 21,
      "outputs": [
        {
          "output_type": "execute_result",
          "data": {
            "text/plain": [
              "array([11.45015464, 12.26844717, 11.69662759, 12.49213501, 12.2686862 ,\n",
              "       11.93694128, 11.64820255, 11.91114944, 11.89401443, 12.49426113,\n",
              "       11.67101231, 11.23397603, 11.66774481, 11.58879882, 11.83534115,\n",
              "       10.76712308, 12.12616784, 11.2261379 , 11.63771439, 11.85222722,\n",
              "       11.9403931 , 12.280821  , 11.68094577, 11.81256199, 12.23901918,\n",
              "       12.42771481, 11.44080021, 11.83226987, 12.05549482, 11.7729551 ,\n",
              "       11.92094182, 12.43378865, 11.23513452, 11.48707297, 11.83556033,\n",
              "       12.37967099, 12.19221974, 12.06957401, 11.74188301, 12.08913696,\n",
              "       12.22298823, 12.48588775, 11.78111661, 11.79186988, 12.20921051,\n",
              "       11.63783635, 11.7328148 , 11.98135223, 12.78148771, 12.10023121,\n",
              "       12.36526689, 11.83789212, 12.26648127, 12.27239462, 11.4264051 ,\n",
              "       11.97920663, 11.60224651, 11.71557668, 12.2492637 , 11.67582541,\n",
              "       11.89114482, 11.5053881 , 12.11963133, 11.55932692, 12.28584976,\n",
              "       11.84215358, 11.86644767, 12.12333635, 12.04324822, 12.47523656,\n",
              "       11.93165468, 11.99830992, 11.63420705, 11.9055796 , 11.65834967,\n",
              "       11.85127481, 12.16185918, 12.11860282, 12.10918407, 11.9539534 ,\n",
              "       12.1201735 , 11.05521546, 12.46281329, 12.30110368, 12.74278201,\n",
              "       11.67087598, 11.21182372, 12.03902287, 12.36608013, 11.78948256,\n",
              "       12.66146935, 11.44427509, 12.68566622, 12.14888172, 11.90140267,\n",
              "       12.03877185, 11.82515243, 12.26264176, 12.24811702, 12.23815507,\n",
              "       11.84074415, 12.1352618 , 11.8196374 , 12.21441847, 11.866243  ,\n",
              "       12.06132429, 12.60633461, 12.4034958 , 11.77389544, 12.06238915,\n",
              "       11.76901777, 11.83279575, 11.46391502, 12.02819993, 12.5529853 ,\n",
              "       12.6667152 , 12.16658878, 11.67004348, 11.78218596, 12.07100266,\n",
              "       11.86069772, 11.75819975, 11.60532539, 13.03525942, 11.58940286,\n",
              "       10.96589062, 11.47519292, 12.2282583 , 11.54711178, 11.93750852,\n",
              "       11.44248826, 12.56282381, 11.66319099, 12.11568629, 11.52734839,\n",
              "       12.50263555, 12.14141716, 11.62862254, 12.28444247, 12.3249297 ,\n",
              "       11.62356256, 12.22843131, 11.82414551, 11.79476816, 12.11088543,\n",
              "       11.72367419, 12.54513849, 11.84877359, 11.81897169, 11.43004315,\n",
              "       11.38749089, 11.79244923, 11.8167888 , 12.20742696, 12.29747148,\n",
              "       12.34632245, 11.88036147, 11.67235785, 12.76604231, 11.84205751,\n",
              "       12.1751409 , 12.30501642, 11.72265963, 11.94029217, 11.77342616,\n",
              "       11.52553005, 11.8985002 , 11.93575763, 11.58095088, 11.59861505,\n",
              "       11.81428923, 11.79224437, 12.1019248 , 12.08966088, 12.89597374,\n",
              "       11.5869365 , 12.59584889, 11.8559651 , 11.84156794, 12.0519612 ,\n",
              "       11.72673548, 12.36682999, 12.23535172, 11.54576842, 12.25412084,\n",
              "       12.03695272, 12.42387342, 12.8970023 , 12.34421644, 12.15956071,\n",
              "       11.54323599, 12.41090275, 12.2003302 , 12.64084023, 11.60563354,\n",
              "       12.24504395, 12.29243365, 11.80664955, 12.48745713, 11.95984909,\n",
              "       12.37266911, 12.43809527, 11.99381449, 12.29998378, 11.59053113,\n",
              "       11.63616761, 11.93913312, 11.83032385, 12.5266889 , 11.55196954,\n",
              "       12.2287653 , 12.06183583, 11.98363524, 11.70117527, 11.65855969,\n",
              "       11.66054817, 11.69628184, 12.04047107, 11.65338806, 12.29477587,\n",
              "       12.09861176, 11.34985973, 11.62720874, 11.78113758, 11.65145168,\n",
              "       12.26009503, 12.5545369 , 11.81540159, 11.43652932, 11.94405715,\n",
              "       11.97773414, 11.75797771, 11.81370009, 11.90168252, 12.2822762 ,\n",
              "       12.39080757, 12.62088981, 11.80365106, 11.46448489, 12.12018047,\n",
              "       12.10875985])"
            ]
          },
          "metadata": {
            "tags": []
          },
          "execution_count": 21
        }
      ]
    },
    {
      "cell_type": "markdown",
      "metadata": {
        "id": "NKzSUiiiLTlF"
      },
      "source": [
        "# **Model Evaluation**"
      ]
    },
    {
      "cell_type": "code",
      "metadata": {
        "colab": {
          "base_uri": "https://localhost:8080/"
        },
        "id": "PLinkdptIC3G",
        "outputId": "260904b2-4ae5-4a64-8963-41c5e05551ed"
      },
      "source": [
        "from sklearn.metrics import mean_absolute_error\n",
        "print('nilai mae:',mean_absolute_error(y_pred,Y_test))\n",
        "print('nilai mse:',mean_squared_error(y_pred,Y_test))\n",
        "print('nilai rmse:',np.sqrt(mean_squared_error(y_pred,Y_test)))\n",
        "\n",
        "print('nilai r^2:',r2_score(y_pred,Y_test))\n",
        "print('\\nnilai Coefficient:\\n',model2.coef_)\n",
        "print('\\nnilai intercept:',model2.intercept_)\n"
      ],
      "execution_count": 22,
      "outputs": [
        {
          "output_type": "stream",
          "text": [
            "nilai mae: 0.11165986940764161\n",
            "nilai mse: 0.020925585830023245\n",
            "nilai rmse: 0.1446567863255065\n",
            "nilai r^2: 0.8473453008150221\n",
            "\n",
            "nilai Coefficient:\n",
            " [ 0.01671328  0.03084874 -0.00402658 -0.00507253  0.15578432  0.05454615\n",
            "  0.11924461  0.01939592  0.03164925  0.13808331  0.00532596]\n",
            "\n",
            "nilai intercept: 12.01283505558578\n"
          ],
          "name": "stdout"
        }
      ]
    },
    {
      "cell_type": "markdown",
      "metadata": {
        "id": "_7YZgKovOekt"
      },
      "source": [
        "jika dilihat dari hasil MSE atau Mean Squared Error yang kecil yaitu sebesar 0.020925585830023245 lalu disusul MAE dan RMSE nya dan juga hasil R^2 nya yaitu 0.8473453008150221 disini kita dapat mengambil kesimpulan bahwa hasil prediksi menggunakan model Linear Regression menggunakan standard scaler hasilnya sama seperti yang tanpa menggunakan Standar Scaler."
      ]
    },
    {
      "cell_type": "markdown",
      "metadata": {
        "id": "YjBFsqukLbtD"
      },
      "source": [
        "# **Prediction Model Linear Regression with Standard Scaler**"
      ]
    },
    {
      "cell_type": "code",
      "metadata": {
        "colab": {
          "base_uri": "https://localhost:8080/",
          "height": 378
        },
        "id": "RQvvow7lIC6l",
        "outputId": "182926ee-3ea4-4789-9fa9-32c7611e91a2"
      },
      "source": [
        "from yellowbrick.regressor import PredictionError,ResidualsPlot\n",
        "\n",
        "visualizer=PredictionError(model2)\n",
        "visualizer.fit(X_train,Y_train)\n",
        "visualizer.score(X_test,Y_test)\n",
        "visualizer.poof()"
      ],
      "execution_count": 23,
      "outputs": [
        {
          "output_type": "display_data",
          "data": {
            "image/png": "[encoded data removed]",
            "text/plain": [
              "<Figure size 576x396 with 1 Axes>"
            ]
          },
          "metadata": {
            "tags": []
          }
        }
      ]
    },
    {
      "cell_type": "markdown",
      "metadata": {
        "id": "XdVoObwuOw-W"
      },
      "source": [
        "untuk bagian visualisasinya juga sama yang menggunakan standard scaler dengan yang tanpa menggunakan standard scaler yaitu 0.866 "
      ]
    },
    {
      "cell_type": "markdown",
      "metadata": {
        "id": "sTBVRwWRO-Sk"
      },
      "source": [
        "untuk hasil yang saya dapatkan belum tentu baik dan juga valid dikarenakan bisa saja ada malfunction dari codingan tersebut karena masih dikerjakan oleh manusia\n"
      ]
    },
    {
      "cell_type": "code",
      "metadata": {
        "id": "5dQNU2B8PorD"
      },
      "source": [
        ""
      ],
      "execution_count": 23,
      "outputs": []
    }
  ]
}